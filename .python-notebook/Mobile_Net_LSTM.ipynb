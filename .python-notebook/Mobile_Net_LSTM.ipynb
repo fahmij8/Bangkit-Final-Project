{
  "nbformat": 4,
  "nbformat_minor": 0,
  "metadata": {
    "colab": {
      "name": "Mobile Net LSTM.ipynb",
      "provenance": [],
      "collapsed_sections": [],
      "include_colab_link": true
    },
    "kernelspec": {
      "name": "python3",
      "display_name": "Python 3"
    },
    "accelerator": "GPU"
  },
  "cells": [
    {
      "cell_type": "markdown",
      "metadata": {
        "id": "view-in-github",
        "colab_type": "text"
      },
      "source": [
        "<a href=\"https://colab.research.google.com/github/fahmij8/Bangkit-Final-Project/blob/master/Mobile_Net_LSTM.ipynb\" target=\"_parent\"><img src=\"https://colab.research.google.com/assets/colab-badge.svg\" alt=\"Open In Colab\"/></a>"
      ]
    },
    {
      "cell_type": "code",
      "metadata": {
        "id": "2NbRZYAlJUc-",
        "colab_type": "code",
        "colab": {}
      },
      "source": [
        "import os\n",
        "os.environ['KAGGLE_USERNAME'] = 'aflita'\n",
        "os.environ['KAGGLE_KEY'] = 'cad9302366db38692e6dfc19fee87783'"
      ],
      "execution_count": null,
      "outputs": []
    },
    {
      "cell_type": "code",
      "metadata": {
        "id": "JIDa-yFBJXaW",
        "colab_type": "code",
        "colab": {
          "base_uri": "https://localhost:8080/",
          "height": 126
        },
        "outputId": "a7aa1c8e-3c02-490a-b405-0b872a061f91"
      },
      "source": [
        "# Mount Drive\n",
        "from google.colab import drive\n",
        "drive.mount('/content/gdrive')"
      ],
      "execution_count": null,
      "outputs": [
        {
          "output_type": "stream",
          "text": [
            "Go to this URL in a browser: https://accounts.google.com/o/oauth2/auth?client_id=947318989803-6bn6qk8qdgf4n4g3pfee6491hc0brc4i.apps.googleusercontent.com&redirect_uri=urn%3aietf%3awg%3aoauth%3a2.0%3aoob&response_type=code&scope=email%20https%3a%2f%2fwww.googleapis.com%2fauth%2fdocs.test%20https%3a%2f%2fwww.googleapis.com%2fauth%2fdrive%20https%3a%2f%2fwww.googleapis.com%2fauth%2fdrive.photos.readonly%20https%3a%2f%2fwww.googleapis.com%2fauth%2fpeopleapi.readonly\n",
            "\n",
            "Enter your authorization code:\n",
            "··········\n",
            "Mounted at /content/gdrive\n"
          ],
          "name": "stdout"
        }
      ]
    },
    {
      "cell_type": "code",
      "metadata": {
        "id": "Rs21z3lNJefk",
        "colab_type": "code",
        "colab": {
          "base_uri": "https://localhost:8080/",
          "height": 34
        },
        "outputId": "c564ce32-5e1e-44b4-e168-4993138575e2"
      },
      "source": [
        "import tensorflow as tf\n",
        "import numpy as np\n",
        "import pickle\n",
        "import os\n",
        "from keras.preprocessing.image import load_img\n",
        "from keras.preprocessing.image import img_to_array\n",
        "import numpy as np\n",
        "import pickle\n",
        "from tensorflow.keras.preprocessing.text import Tokenizer\n",
        "from tensorflow.keras.preprocessing.sequence import pad_sequences\n",
        "from IPython.display import Image, display\n",
        "from tqdm import tqdm\n",
        "from keras.preprocessing import image\n",
        "#from keras.models import Model"
      ],
      "execution_count": null,
      "outputs": [
        {
          "output_type": "stream",
          "text": [
            "Using TensorFlow backend.\n"
          ],
          "name": "stderr"
        }
      ]
    },
    {
      "cell_type": "code",
      "metadata": {
        "id": "CTK9apnhJmHT",
        "colab_type": "code",
        "colab": {
          "base_uri": "https://localhost:8080/",
          "height": 124
        },
        "outputId": "285f4327-75b5-4718-eddf-4616f7dad5ba"
      },
      "source": [
        "!kaggle datasets download -d shadabhussain/flickr8k\n",
        "!kaggle datasets download -d rtatman/glove-global-vectors-for-word-representation"
      ],
      "execution_count": null,
      "outputs": [
        {
          "output_type": "stream",
          "text": [
            "Downloading flickr8k.zip to /content\n",
            "100% 2.12G/2.13G [00:58<00:00, 37.4MB/s]\n",
            "100% 2.13G/2.13G [00:58<00:00, 39.1MB/s]\n",
            "Downloading glove-global-vectors-for-word-representation.zip to /content\n",
            " 98% 447M/458M [00:13<00:00, 37.0MB/s]\n",
            "100% 458M/458M [00:13<00:00, 35.3MB/s]\n"
          ],
          "name": "stdout"
        }
      ]
    },
    {
      "cell_type": "code",
      "metadata": {
        "id": "fe1R2AR_Jni6",
        "colab_type": "code",
        "colab": {}
      },
      "source": [
        "!unzip -q flickr8k.zip -d .\n",
        "!unzip -q glove-global-vectors-for-word-representation.zip -d ."
      ],
      "execution_count": null,
      "outputs": []
    },
    {
      "cell_type": "code",
      "metadata": {
        "id": "lo_1RzyAJo6Y",
        "colab_type": "code",
        "colab": {}
      },
      "source": [
        "# Read Image Folder\n",
        "image_folder = '/content/Flickr_Data/Flickr_Data/Images/'\n",
        "# Read Annotation Folder\n",
        "annotation_file = '/content/Flickr_Data/Flickr_Data/Flickr_TextData/Flickr8k.token.txt'\n",
        "# Read Training File\n",
        "train_file = '/content/Flickr_Data/Flickr_Data/Flickr_TextData/Flickr_8k.trainImages.txt'\n",
        "# Read Validation File\n",
        "val_file = '/content/Flickr_Data/Flickr_Data/Flickr_TextData/Flickr_8k.devImages.txt'\n",
        "# Read Test File\n",
        "test_file = '/content/Flickr_Data/Flickr_Data/Flickr_TextData/Flickr_8k.testImages.txt'\n",
        "# Read GloVe File\n",
        "glove_file ='/content/glove.6B.50d.txt'"
      ],
      "execution_count": null,
      "outputs": []
    },
    {
      "cell_type": "code",
      "metadata": {
        "id": "T5mCDAmpKe-N",
        "colab_type": "code",
        "colab": {}
      },
      "source": [
        "unique_train = open(train_file, 'r').read().splitlines()\n",
        "unique_val = open(val_file, 'r').read().splitlines()\n",
        "unique_test = open(test_file, 'r').read().splitlines()\n",
        "annotations = open(annotation_file,'r').read().splitlines()"
      ],
      "execution_count": null,
      "outputs": []
    },
    {
      "cell_type": "code",
      "metadata": {
        "id": "nz-o-RIKJqT8",
        "colab_type": "code",
        "colab": {
          "base_uri": "https://localhost:8080/",
          "height": 160
        },
        "outputId": "6e1a6674-d912-4ea6-e72b-f2f6274a8c27"
      },
      "source": [
        "# Collect Dataset\n",
        "import re\n",
        "\n",
        "def collect_list(unique_set):\n",
        "  data = []\n",
        "  for idx, el in enumerate(annotations):\n",
        "    # Split Image ID with Captions\n",
        "    fname, cap = re.split(\"#[0-9][\\t]\", el)\n",
        "    cap = cap.split()\n",
        "    cap = [w for w in cap if len(w)>1]\n",
        "    cap = ' '.join(cap)\n",
        "    cap = '<start> ' + cap + ' <end>'\n",
        "    cap = cap.lower()\n",
        "    if fname in unique_set:\n",
        "      data.append([fname,cap])\n",
        "  return data\n",
        "\n",
        "train_set = collect_list(unique_train)\n",
        "val_set = collect_list(unique_val)\n",
        "test_set = collect_list(unique_test)\n",
        "\n",
        "print('Collected Train Sets: %d' %len(train_set))\n",
        "print('Collected Val Sets: %d' %len(val_set))\n",
        "print('Collected Test Sets: %d' %len(test_set))\n",
        "print('\\n')\n",
        "print('Unique Train Sets: %d' %len(unique_train))\n",
        "print('Unique Val Sets: %d' %len(unique_val))\n",
        "print('Unique Test Sets: %d' %len(unique_test))"
      ],
      "execution_count": null,
      "outputs": [
        {
          "output_type": "stream",
          "text": [
            "Collected Train Sets: 30000\n",
            "Collected Val Sets: 5000\n",
            "Collected Test Sets: 5000\n",
            "\n",
            "\n",
            "Unique Train Sets: 6000\n",
            "Unique Val Sets: 1000\n",
            "Unique Test Sets: 1000\n"
          ],
          "name": "stdout"
        }
      ]
    },
    {
      "cell_type": "markdown",
      "metadata": {
        "id": "tq-ydS7U8Ru6",
        "colab_type": "text"
      },
      "source": [
        "**Define Model**"
      ]
    },
    {
      "cell_type": "code",
      "metadata": {
        "id": "crRxy7_a8Nsw",
        "colab_type": "code",
        "colab": {}
      },
      "source": [
        "# Optional\n",
        "# Define Baseline CNN Model\n",
        "from tensorflow import keras\n",
        "\n",
        "baseline_model = tf.keras.models.Sequential([\n",
        "    tf.keras.layers.Conv2D(64, (3,3), activation= 'relu', input_shape = (224, 224, 3)),\n",
        "    tf.keras.layers.MaxPooling2D(2,2),\n",
        "    tf.keras.layers.Conv2D(64, (3,3), activation= 'relu'),\n",
        "    tf.keras.layers.MaxPooling2D(2,2),\n",
        "    tf.keras.layers.Conv2D(128, (3,3), activation = 'relu'),\n",
        "    tf.keras.layers.MaxPooling2D(2,2),\n",
        "    tf.keras.layers.Conv2D(128, (3,3), activation = 'relu'),\n",
        "    tf.keras.layers.MaxPooling2D(2,2),\n",
        "    tf.keras.layers.Conv2D(64, (3,3), activation = 'relu'),\n",
        "    tf.keras.layers.MaxPooling2D(2,2),\n",
        "    tf.keras.layers.Flatten(),\n",
        "    tf.keras.layers.Dense(512, activation = 'relu'),\n",
        "    tf.keras.layers.Dense(512, activation = 'softmax')\n",
        "])\n",
        "\n",
        "baseline_model.compile(optimizer='adam', loss='sparse_categorical_crossentropy', metrics=['accuracy'])\n",
        "#baseline_model.summary()\n",
        "baseline = tf.keras.Model(inputs = baseline_model.input,\n",
        "                          outputs = baseline_model.layers[-3].output)\n",
        "baseline.summary()"
      ],
      "execution_count": null,
      "outputs": []
    },
    {
      "cell_type": "code",
      "metadata": {
        "id": "Yjg093H5WURa",
        "colab_type": "code",
        "colab": {
          "base_uri": "https://localhost:8080/",
          "height": 1000
        },
        "outputId": "77008429-0651-4c76-cbf5-8ce65013b69a"
      },
      "source": [
        "# Transfer Learning MobileNet\n",
        "from keras.applications.mobilenet import MobileNet\n",
        "from keras.models import Model, Sequential\n",
        "\n",
        "mobilenet = tf.keras.applications.MobileNet(weights='imagenet',include_top = True, input_shape = (224,224,3))\n",
        "\n",
        "img_model = tf.keras.Model(inputs = mobilenet.input,\n",
        "                          outputs = mobilenet.layers[-3].output)\n",
        "\n",
        "x = tf.keras.layers.Flatten()(mobilenet.output)\n",
        "\n",
        "img_model = tf.keras.Model(inputs = mobilenet.input, outputs = x)\n",
        "img_model.summary()"
      ],
      "execution_count": null,
      "outputs": [
        {
          "output_type": "stream",
          "text": [
            "Downloading data from https://storage.googleapis.com/tensorflow/keras-applications/mobilenet/mobilenet_1_0_224_tf.h5\n",
            "17227776/17225924 [==============================] - 1s 0us/step\n",
            "Model: \"model_1\"\n",
            "_________________________________________________________________\n",
            "Layer (type)                 Output Shape              Param #   \n",
            "=================================================================\n",
            "input_1 (InputLayer)         [(None, 224, 224, 3)]     0         \n",
            "_________________________________________________________________\n",
            "conv1_pad (ZeroPadding2D)    (None, 225, 225, 3)       0         \n",
            "_________________________________________________________________\n",
            "conv1 (Conv2D)               (None, 112, 112, 32)      864       \n",
            "_________________________________________________________________\n",
            "conv1_bn (BatchNormalization (None, 112, 112, 32)      128       \n",
            "_________________________________________________________________\n",
            "conv1_relu (ReLU)            (None, 112, 112, 32)      0         \n",
            "_________________________________________________________________\n",
            "conv_dw_1 (DepthwiseConv2D)  (None, 112, 112, 32)      288       \n",
            "_________________________________________________________________\n",
            "conv_dw_1_bn (BatchNormaliza (None, 112, 112, 32)      128       \n",
            "_________________________________________________________________\n",
            "conv_dw_1_relu (ReLU)        (None, 112, 112, 32)      0         \n",
            "_________________________________________________________________\n",
            "conv_pw_1 (Conv2D)           (None, 112, 112, 64)      2048      \n",
            "_________________________________________________________________\n",
            "conv_pw_1_bn (BatchNormaliza (None, 112, 112, 64)      256       \n",
            "_________________________________________________________________\n",
            "conv_pw_1_relu (ReLU)        (None, 112, 112, 64)      0         \n",
            "_________________________________________________________________\n",
            "conv_pad_2 (ZeroPadding2D)   (None, 113, 113, 64)      0         \n",
            "_________________________________________________________________\n",
            "conv_dw_2 (DepthwiseConv2D)  (None, 56, 56, 64)        576       \n",
            "_________________________________________________________________\n",
            "conv_dw_2_bn (BatchNormaliza (None, 56, 56, 64)        256       \n",
            "_________________________________________________________________\n",
            "conv_dw_2_relu (ReLU)        (None, 56, 56, 64)        0         \n",
            "_________________________________________________________________\n",
            "conv_pw_2 (Conv2D)           (None, 56, 56, 128)       8192      \n",
            "_________________________________________________________________\n",
            "conv_pw_2_bn (BatchNormaliza (None, 56, 56, 128)       512       \n",
            "_________________________________________________________________\n",
            "conv_pw_2_relu (ReLU)        (None, 56, 56, 128)       0         \n",
            "_________________________________________________________________\n",
            "conv_dw_3 (DepthwiseConv2D)  (None, 56, 56, 128)       1152      \n",
            "_________________________________________________________________\n",
            "conv_dw_3_bn (BatchNormaliza (None, 56, 56, 128)       512       \n",
            "_________________________________________________________________\n",
            "conv_dw_3_relu (ReLU)        (None, 56, 56, 128)       0         \n",
            "_________________________________________________________________\n",
            "conv_pw_3 (Conv2D)           (None, 56, 56, 128)       16384     \n",
            "_________________________________________________________________\n",
            "conv_pw_3_bn (BatchNormaliza (None, 56, 56, 128)       512       \n",
            "_________________________________________________________________\n",
            "conv_pw_3_relu (ReLU)        (None, 56, 56, 128)       0         \n",
            "_________________________________________________________________\n",
            "conv_pad_4 (ZeroPadding2D)   (None, 57, 57, 128)       0         \n",
            "_________________________________________________________________\n",
            "conv_dw_4 (DepthwiseConv2D)  (None, 28, 28, 128)       1152      \n",
            "_________________________________________________________________\n",
            "conv_dw_4_bn (BatchNormaliza (None, 28, 28, 128)       512       \n",
            "_________________________________________________________________\n",
            "conv_dw_4_relu (ReLU)        (None, 28, 28, 128)       0         \n",
            "_________________________________________________________________\n",
            "conv_pw_4 (Conv2D)           (None, 28, 28, 256)       32768     \n",
            "_________________________________________________________________\n",
            "conv_pw_4_bn (BatchNormaliza (None, 28, 28, 256)       1024      \n",
            "_________________________________________________________________\n",
            "conv_pw_4_relu (ReLU)        (None, 28, 28, 256)       0         \n",
            "_________________________________________________________________\n",
            "conv_dw_5 (DepthwiseConv2D)  (None, 28, 28, 256)       2304      \n",
            "_________________________________________________________________\n",
            "conv_dw_5_bn (BatchNormaliza (None, 28, 28, 256)       1024      \n",
            "_________________________________________________________________\n",
            "conv_dw_5_relu (ReLU)        (None, 28, 28, 256)       0         \n",
            "_________________________________________________________________\n",
            "conv_pw_5 (Conv2D)           (None, 28, 28, 256)       65536     \n",
            "_________________________________________________________________\n",
            "conv_pw_5_bn (BatchNormaliza (None, 28, 28, 256)       1024      \n",
            "_________________________________________________________________\n",
            "conv_pw_5_relu (ReLU)        (None, 28, 28, 256)       0         \n",
            "_________________________________________________________________\n",
            "conv_pad_6 (ZeroPadding2D)   (None, 29, 29, 256)       0         \n",
            "_________________________________________________________________\n",
            "conv_dw_6 (DepthwiseConv2D)  (None, 14, 14, 256)       2304      \n",
            "_________________________________________________________________\n",
            "conv_dw_6_bn (BatchNormaliza (None, 14, 14, 256)       1024      \n",
            "_________________________________________________________________\n",
            "conv_dw_6_relu (ReLU)        (None, 14, 14, 256)       0         \n",
            "_________________________________________________________________\n",
            "conv_pw_6 (Conv2D)           (None, 14, 14, 512)       131072    \n",
            "_________________________________________________________________\n",
            "conv_pw_6_bn (BatchNormaliza (None, 14, 14, 512)       2048      \n",
            "_________________________________________________________________\n",
            "conv_pw_6_relu (ReLU)        (None, 14, 14, 512)       0         \n",
            "_________________________________________________________________\n",
            "conv_dw_7 (DepthwiseConv2D)  (None, 14, 14, 512)       4608      \n",
            "_________________________________________________________________\n",
            "conv_dw_7_bn (BatchNormaliza (None, 14, 14, 512)       2048      \n",
            "_________________________________________________________________\n",
            "conv_dw_7_relu (ReLU)        (None, 14, 14, 512)       0         \n",
            "_________________________________________________________________\n",
            "conv_pw_7 (Conv2D)           (None, 14, 14, 512)       262144    \n",
            "_________________________________________________________________\n",
            "conv_pw_7_bn (BatchNormaliza (None, 14, 14, 512)       2048      \n",
            "_________________________________________________________________\n",
            "conv_pw_7_relu (ReLU)        (None, 14, 14, 512)       0         \n",
            "_________________________________________________________________\n",
            "conv_dw_8 (DepthwiseConv2D)  (None, 14, 14, 512)       4608      \n",
            "_________________________________________________________________\n",
            "conv_dw_8_bn (BatchNormaliza (None, 14, 14, 512)       2048      \n",
            "_________________________________________________________________\n",
            "conv_dw_8_relu (ReLU)        (None, 14, 14, 512)       0         \n",
            "_________________________________________________________________\n",
            "conv_pw_8 (Conv2D)           (None, 14, 14, 512)       262144    \n",
            "_________________________________________________________________\n",
            "conv_pw_8_bn (BatchNormaliza (None, 14, 14, 512)       2048      \n",
            "_________________________________________________________________\n",
            "conv_pw_8_relu (ReLU)        (None, 14, 14, 512)       0         \n",
            "_________________________________________________________________\n",
            "conv_dw_9 (DepthwiseConv2D)  (None, 14, 14, 512)       4608      \n",
            "_________________________________________________________________\n",
            "conv_dw_9_bn (BatchNormaliza (None, 14, 14, 512)       2048      \n",
            "_________________________________________________________________\n",
            "conv_dw_9_relu (ReLU)        (None, 14, 14, 512)       0         \n",
            "_________________________________________________________________\n",
            "conv_pw_9 (Conv2D)           (None, 14, 14, 512)       262144    \n",
            "_________________________________________________________________\n",
            "conv_pw_9_bn (BatchNormaliza (None, 14, 14, 512)       2048      \n",
            "_________________________________________________________________\n",
            "conv_pw_9_relu (ReLU)        (None, 14, 14, 512)       0         \n",
            "_________________________________________________________________\n",
            "conv_dw_10 (DepthwiseConv2D) (None, 14, 14, 512)       4608      \n",
            "_________________________________________________________________\n",
            "conv_dw_10_bn (BatchNormaliz (None, 14, 14, 512)       2048      \n",
            "_________________________________________________________________\n",
            "conv_dw_10_relu (ReLU)       (None, 14, 14, 512)       0         \n",
            "_________________________________________________________________\n",
            "conv_pw_10 (Conv2D)          (None, 14, 14, 512)       262144    \n",
            "_________________________________________________________________\n",
            "conv_pw_10_bn (BatchNormaliz (None, 14, 14, 512)       2048      \n",
            "_________________________________________________________________\n",
            "conv_pw_10_relu (ReLU)       (None, 14, 14, 512)       0         \n",
            "_________________________________________________________________\n",
            "conv_dw_11 (DepthwiseConv2D) (None, 14, 14, 512)       4608      \n",
            "_________________________________________________________________\n",
            "conv_dw_11_bn (BatchNormaliz (None, 14, 14, 512)       2048      \n",
            "_________________________________________________________________\n",
            "conv_dw_11_relu (ReLU)       (None, 14, 14, 512)       0         \n",
            "_________________________________________________________________\n",
            "conv_pw_11 (Conv2D)          (None, 14, 14, 512)       262144    \n",
            "_________________________________________________________________\n",
            "conv_pw_11_bn (BatchNormaliz (None, 14, 14, 512)       2048      \n",
            "_________________________________________________________________\n",
            "conv_pw_11_relu (ReLU)       (None, 14, 14, 512)       0         \n",
            "_________________________________________________________________\n",
            "conv_pad_12 (ZeroPadding2D)  (None, 15, 15, 512)       0         \n",
            "_________________________________________________________________\n",
            "conv_dw_12 (DepthwiseConv2D) (None, 7, 7, 512)         4608      \n",
            "_________________________________________________________________\n",
            "conv_dw_12_bn (BatchNormaliz (None, 7, 7, 512)         2048      \n",
            "_________________________________________________________________\n",
            "conv_dw_12_relu (ReLU)       (None, 7, 7, 512)         0         \n",
            "_________________________________________________________________\n",
            "conv_pw_12 (Conv2D)          (None, 7, 7, 1024)        524288    \n",
            "_________________________________________________________________\n",
            "conv_pw_12_bn (BatchNormaliz (None, 7, 7, 1024)        4096      \n",
            "_________________________________________________________________\n",
            "conv_pw_12_relu (ReLU)       (None, 7, 7, 1024)        0         \n",
            "_________________________________________________________________\n",
            "conv_dw_13 (DepthwiseConv2D) (None, 7, 7, 1024)        9216      \n",
            "_________________________________________________________________\n",
            "conv_dw_13_bn (BatchNormaliz (None, 7, 7, 1024)        4096      \n",
            "_________________________________________________________________\n",
            "conv_dw_13_relu (ReLU)       (None, 7, 7, 1024)        0         \n",
            "_________________________________________________________________\n",
            "conv_pw_13 (Conv2D)          (None, 7, 7, 1024)        1048576   \n",
            "_________________________________________________________________\n",
            "conv_pw_13_bn (BatchNormaliz (None, 7, 7, 1024)        4096      \n",
            "_________________________________________________________________\n",
            "conv_pw_13_relu (ReLU)       (None, 7, 7, 1024)        0         \n",
            "_________________________________________________________________\n",
            "global_average_pooling2d (Gl (None, 1024)              0         \n",
            "_________________________________________________________________\n",
            "reshape_1 (Reshape)          (None, 1, 1, 1024)        0         \n",
            "_________________________________________________________________\n",
            "dropout (Dropout)            (None, 1, 1, 1024)        0         \n",
            "_________________________________________________________________\n",
            "conv_preds (Conv2D)          (None, 1, 1, 1000)        1025000   \n",
            "_________________________________________________________________\n",
            "reshape_2 (Reshape)          (None, 1000)              0         \n",
            "_________________________________________________________________\n",
            "predictions (Activation)     (None, 1000)              0         \n",
            "_________________________________________________________________\n",
            "flatten (Flatten)            (None, 1000)              0         \n",
            "=================================================================\n",
            "Total params: 4,253,864\n",
            "Trainable params: 4,231,976\n",
            "Non-trainable params: 21,888\n",
            "_________________________________________________________________\n"
          ],
          "name": "stdout"
        }
      ]
    },
    {
      "cell_type": "markdown",
      "metadata": {
        "id": "Gy_fUWMx8aV5",
        "colab_type": "text"
      },
      "source": [
        "Preprocess Image Model"
      ]
    },
    {
      "cell_type": "code",
      "metadata": {
        "id": "2tC4MauDKEaS",
        "colab_type": "code",
        "colab": {}
      },
      "source": [
        "def preprocess_input(x):\n",
        "  x /= 127.5\n",
        "  x -= 1\n",
        "  return x\n",
        "  \n",
        "def preprocess(image_path):\n",
        "  img = image.load_img(image_path, target_size=(224, 224))\n",
        "  x = image.img_to_array(img)\n",
        "  x = np.expand_dims(x, axis=0)\n",
        "  x = preprocess_input(x)\n",
        "  return x\n",
        "\n",
        "def encode(image):\n",
        "  image = preprocess(image)\n",
        "  temp_enc = img_model.predict(image)\n",
        "  temp_enc = np.reshape(temp_enc, 1000)\n",
        "  return temp_enc"
      ],
      "execution_count": null,
      "outputs": []
    },
    {
      "cell_type": "code",
      "metadata": {
        "id": "FRdRPTyuMG-e",
        "colab_type": "code",
        "colab": {
          "base_uri": "https://localhost:8080/",
          "height": 34
        },
        "outputId": "7a4160e2-102f-41d2-b4e4-460f3df2b45a"
      },
      "source": [
        "# Extract Image Features\n",
        "train_features = {}\n",
        "\n",
        "for img in tqdm(unique_train):\n",
        "  path = os.path.join(image_folder, img)\n",
        "  train_features[img] = encode(path)"
      ],
      "execution_count": null,
      "outputs": [
        {
          "output_type": "stream",
          "text": [
            "100%|██████████| 6000/6000 [04:16<00:00, 23.42it/s]\n"
          ],
          "name": "stderr"
        }
      ]
    },
    {
      "cell_type": "code",
      "metadata": {
        "id": "Lsjo5bpDQiBI",
        "colab_type": "code",
        "colab": {
          "base_uri": "https://localhost:8080/",
          "height": 34
        },
        "outputId": "64706739-1a38-4d64-b7b1-dfaa3525b1ce"
      },
      "source": [
        "val_features = {}\n",
        "for img in tqdm(unique_val):\n",
        "  path = os.path.join(image_folder, img)\n",
        "  val_features[img] = encode(path)"
      ],
      "execution_count": null,
      "outputs": [
        {
          "output_type": "stream",
          "text": [
            "100%|██████████| 1000/1000 [00:41<00:00, 23.90it/s]\n"
          ],
          "name": "stderr"
        }
      ]
    },
    {
      "cell_type": "code",
      "metadata": {
        "id": "v5BfrV7UOEZF",
        "colab_type": "code",
        "colab": {
          "base_uri": "https://localhost:8080/",
          "height": 70
        },
        "outputId": "c434f662-135c-4301-f841-1adf0ec320e3"
      },
      "source": [
        "train_features['3556792157_d09d42bef7.jpg'].shape, print(len(train_features)), print(len(val_features))"
      ],
      "execution_count": null,
      "outputs": [
        {
          "output_type": "stream",
          "text": [
            "6000\n",
            "1000\n"
          ],
          "name": "stdout"
        },
        {
          "output_type": "execute_result",
          "data": {
            "text/plain": [
              "((1000,), None, None)"
            ]
          },
          "metadata": {
            "tags": []
          },
          "execution_count": 13
        }
      ]
    },
    {
      "cell_type": "code",
      "metadata": {
        "id": "g4F5hQDERWFv",
        "colab_type": "code",
        "colab": {}
      },
      "source": [
        "# Save Feature\n",
        "pickle.dump(train_features, open('train_features.pkl','wb'))\n",
        "pickle.dump(val_features, open('val_features.pkl','wb'))"
      ],
      "execution_count": null,
      "outputs": []
    },
    {
      "cell_type": "code",
      "metadata": {
        "id": "LNlrWZJNRgmc",
        "colab_type": "code",
        "colab": {}
      },
      "source": [
        "# Load Features if Available\n",
        "train_features = pickle.load(open('/content/train_features.pkl', 'rb'))\n",
        "val_features = pickle.load(open('/content/val_features.pkl', 'rb'))"
      ],
      "execution_count": null,
      "outputs": []
    },
    {
      "cell_type": "markdown",
      "metadata": {
        "id": "dnJ_1RSbRMyU",
        "colab_type": "text"
      },
      "source": [
        "**Preprocess Captions**"
      ]
    },
    {
      "cell_type": "code",
      "metadata": {
        "id": "1I0iou2ZRQmQ",
        "colab_type": "code",
        "colab": {
          "base_uri": "https://localhost:8080/",
          "height": 52
        },
        "outputId": "eb91d171-520e-48bb-91bf-af9814f48d39"
      },
      "source": [
        "train_captions = [train[1] for train in train_set]\n",
        "val_captions = [val[1] for val in val_set]\n",
        "\n",
        "# Token\n",
        "num_words = 7380\n",
        "oov = '<unk>'\n",
        "filt = '!\"#$%&()*+.,-/:;=?@[\\]^_`{|}~ '\n",
        "\n",
        "tokenizer = Tokenizer(num_words+1, oov_token = oov, filters = filt)\n",
        "tokenizer.fit_on_texts(train_captions)\n",
        "word2index = tokenizer.word_index\n",
        "\n",
        "vocab_size = len(word2index) + 1\n",
        "print('Reduced Vocabulary Size: %d' % vocab_size)\n",
        "max_length = max_length = max(len(train_set[i][1].split()) for i in range(len(train_set)))\n",
        "print('Description Length: %d' % max_length)"
      ],
      "execution_count": null,
      "outputs": [
        {
          "output_type": "stream",
          "text": [
            "Reduced Vocabulary Size: 7369\n",
            "Description Length: 34\n"
          ],
          "name": "stdout"
        }
      ]
    },
    {
      "cell_type": "code",
      "metadata": {
        "id": "FikZMWrsRm5g",
        "colab_type": "code",
        "colab": {
          "base_uri": "https://localhost:8080/",
          "height": 34
        },
        "outputId": "5835d547-d1d1-4679-9328-93db986b9b1d"
      },
      "source": [
        "# Reverse Index to Word\n",
        "index2word = dict([(value, key) for (key, value) in word2index.items()])\n",
        "word2index['<start>']"
      ],
      "execution_count": null,
      "outputs": [
        {
          "output_type": "execute_result",
          "data": {
            "text/plain": [
              "2"
            ]
          },
          "metadata": {
            "tags": []
          },
          "execution_count": 16
        }
      ]
    },
    {
      "cell_type": "code",
      "metadata": {
        "id": "DOXuGgyOR7vl",
        "colab_type": "code",
        "colab": {}
      },
      "source": [
        "# Fit Token to Texts\n",
        "train_seq = tokenizer.texts_to_sequences(train_captions)\n",
        "val_seq = tokenizer.texts_to_sequences(val_captions)"
      ],
      "execution_count": null,
      "outputs": []
    },
    {
      "cell_type": "code",
      "metadata": {
        "id": "8xPUOsPNRxFe",
        "colab_type": "code",
        "colab": {}
      },
      "source": [
        "# Store Sequences\n",
        "def create_sequence(sequence_name):\n",
        "  padded_sequences, subsequent_words = [], []\n",
        "\n",
        "  for seq in sequence_name:\n",
        "      partial_seqs = []\n",
        "      next_words = []\n",
        "      for i in range(1, len(seq)):\n",
        "        partial_seqs.append(seq[:i])\n",
        "        next_words.append(seq[i])\n",
        "      padded_partial_seqs = pad_sequences(partial_seqs, max_length, padding='post')\n",
        "\n",
        "      next_words_1hot = np.zeros([len(next_words), vocab_size], dtype=np.bool)\n",
        "      \n",
        "      #Vectorization\n",
        "      for i,next_word in enumerate(next_words):\n",
        "          next_words_1hot[i, next_word] = 1\n",
        "          \n",
        "      padded_sequences.append(padded_partial_seqs)\n",
        "      subsequent_words.append(next_words_1hot)\n",
        "      \n",
        "  padded_sequences = np.asarray(padded_sequences)\n",
        "  subsequent_words = np.asarray(subsequent_words)\n",
        "  return padded_sequences, subsequent_words"
      ],
      "execution_count": null,
      "outputs": []
    },
    {
      "cell_type": "code",
      "metadata": {
        "id": "MqxAcE7PR1DX",
        "colab_type": "code",
        "colab": {
          "base_uri": "https://localhost:8080/",
          "height": 88
        },
        "outputId": "409f7276-00fb-479a-bfa8-5c6db11c6bb0"
      },
      "source": [
        "padded_sequences, subsequent_words = create_sequence(train_seq)\n",
        "vpadded_sequences, vsubsequent_words = create_sequence(val_seq)\n",
        "\n",
        "print(padded_sequences.shape)\n",
        "print(subsequent_words.shape)\n",
        "print(vpadded_sequences.shape)\n",
        "print(vsubsequent_words.shape)"
      ],
      "execution_count": null,
      "outputs": [
        {
          "output_type": "stream",
          "text": [
            "(30000,)\n",
            "(30000,)\n",
            "(5000,)\n",
            "(5000,)\n"
          ],
          "name": "stdout"
        }
      ]
    },
    {
      "cell_type": "code",
      "metadata": {
        "id": "RHIOKF6bR3EX",
        "colab_type": "code",
        "colab": {}
      },
      "source": [
        "num_of_images = 6000"
      ],
      "execution_count": null,
      "outputs": []
    },
    {
      "cell_type": "code",
      "metadata": {
        "id": "Ftp4HllQSAk5",
        "colab_type": "code",
        "colab": {
          "base_uri": "https://localhost:8080/",
          "height": 70
        },
        "outputId": "f68d7e24-5591-4632-a715-7f40643b91d3"
      },
      "source": [
        "captions = np.zeros([0, max_length])\n",
        "next_words = np.zeros([0, vocab_size])\n",
        "\n",
        "# Store Captions and Next Words to Disk\n",
        "\n",
        "for i in tqdm(range(num_of_images)):\n",
        "  captions = np.concatenate([captions, padded_sequences[i]])\n",
        "  next_words = np.concatenate([next_words, subsequent_words[i]])\n",
        "  \n",
        "np.save(\"captions.npy\", captions)\n",
        "np.save(\"next_words.npy\", next_words)\n",
        "\n",
        "print(captions.shape)\n",
        "print(next_words.shape)"
      ],
      "execution_count": null,
      "outputs": [
        {
          "output_type": "stream",
          "text": [
            "100%|██████████| 6000/6000 [37:13<00:00,  2.69it/s]\n"
          ],
          "name": "stderr"
        },
        {
          "output_type": "stream",
          "text": [
            "(61800, 34)\n",
            "(61800, 7369)\n"
          ],
          "name": "stdout"
        }
      ]
    },
    {
      "cell_type": "code",
      "metadata": {
        "id": "W5lGTH5rSFgV",
        "colab_type": "code",
        "colab": {
          "base_uri": "https://localhost:8080/",
          "height": 34
        },
        "outputId": "257c509a-d377-4f0e-ac66-c5ad46219eba"
      },
      "source": [
        "# Get Images Array\n",
        "imgs = []\n",
        "\n",
        "for i in range(len(train_set)):\n",
        "    if train_set[i][0] in train_features.keys():\n",
        "      imgs.append(list(train_features[train_set[i][0]]))\n",
        "\n",
        "imgs = np.asarray(imgs)\n",
        "\n",
        "images = []\n",
        "for ix in range(6000):#num_of_images\n",
        "    for iy in range(padded_sequences[ix].shape[0]):\n",
        "        images.append(imgs[ix])\n",
        "        \n",
        "images = np.asarray(images)\n",
        "np.save(\"images.npy\", images)\n",
        "\n",
        "print(images.shape)"
      ],
      "execution_count": null,
      "outputs": [
        {
          "output_type": "stream",
          "text": [
            "(61800, 1000)\n"
          ],
          "name": "stdout"
        }
      ]
    },
    {
      "cell_type": "code",
      "metadata": {
        "id": "fgMVUc0kSJ_L",
        "colab_type": "code",
        "colab": {
          "base_uri": "https://localhost:8080/",
          "height": 70
        },
        "outputId": "b6bc709a-a8c4-43b3-c2d9-a9f001bb1c81"
      },
      "source": [
        "vcaptions = np.zeros([0, max_length])\n",
        "vnext_words = np.zeros([0, vocab_size])\n",
        "\n",
        "# Store Captions and Next Words to Disk\n",
        "\n",
        "for i in tqdm(range(1000)): #1000 Validation Set\n",
        "  vcaptions = np.concatenate([vcaptions, vpadded_sequences[i]])\n",
        "  vnext_words = np.concatenate([vnext_words, vsubsequent_words[i]])\n",
        "  \n",
        "np.save(\"vcaptions.npy\", vcaptions)\n",
        "np.save(\"vnext_words.npy\", vnext_words)\n",
        "\n",
        "print(vcaptions.shape)\n",
        "print(vnext_words.shape)"
      ],
      "execution_count": null,
      "outputs": [
        {
          "output_type": "stream",
          "text": [
            "100%|██████████| 1000/1000 [01:16<00:00, 13.12it/s]\n"
          ],
          "name": "stderr"
        },
        {
          "output_type": "stream",
          "text": [
            "(10560, 34)\n",
            "(10560, 7369)\n"
          ],
          "name": "stdout"
        }
      ]
    },
    {
      "cell_type": "code",
      "metadata": {
        "id": "fcDBXt9DSiFS",
        "colab_type": "code",
        "colab": {
          "base_uri": "https://localhost:8080/",
          "height": 34
        },
        "outputId": "24b7b400-6b43-43e4-d6de-bb3f4000c0be"
      },
      "source": [
        "imgs = []\n",
        "\n",
        "for i in range(len(val_set)):\n",
        "    if val_set[i][0] in val_features.keys():\n",
        "      imgs.append(list(val_features[val_set[i][0]]))\n",
        "\n",
        "imgs = np.asarray(imgs)\n",
        "#print(imgs.shape)\n",
        "\n",
        "images = []\n",
        "\n",
        "for ix in range(1000):#num_of_images\n",
        "    for iy in range(vpadded_sequences[ix].shape[0]):\n",
        "        images.append(imgs[ix])\n",
        "        \n",
        "images = np.asarray(images)\n",
        "np.save(\"vimages.npy\", images)\n",
        "print(images.shape)"
      ],
      "execution_count": null,
      "outputs": [
        {
          "output_type": "stream",
          "text": [
            "(10560, 1000)\n"
          ],
          "name": "stdout"
        }
      ]
    },
    {
      "cell_type": "code",
      "metadata": {
        "id": "yLxYM1R-XTQ6",
        "colab_type": "code",
        "colab": {}
      },
      "source": [
        "!cp -r /content/next_words.npy '/content/gdrive/My Drive/'\n",
        "!cp -r /content/captions.npy '/content/gdrive/My Drive/'"
      ],
      "execution_count": null,
      "outputs": []
    },
    {
      "cell_type": "markdown",
      "metadata": {
        "id": "6N55_x45SkJc",
        "colab_type": "text"
      },
      "source": [
        "**Model**"
      ]
    },
    {
      "cell_type": "code",
      "metadata": {
        "id": "j_l-A8A3Snl-",
        "colab_type": "code",
        "colab": {
          "base_uri": "https://localhost:8080/",
          "height": 70
        },
        "outputId": "8693db55-e534-4e09-edd2-7276e9bdef6b"
      },
      "source": [
        "import numpy as np\n",
        "\n",
        "captions =  np.load(\"captions.npy\")\n",
        "next_words = np.load(\"next_words.npy\")\n",
        "images = np.load(\"images.npy\")\n",
        "\n",
        "print(captions.shape)\n",
        "print(next_words.shape)\n",
        "print(images.shape)"
      ],
      "execution_count": null,
      "outputs": [
        {
          "output_type": "stream",
          "text": [
            "(61800, 34)\n",
            "(61800, 7369)\n",
            "(61800, 1000)\n"
          ],
          "name": "stdout"
        }
      ]
    },
    {
      "cell_type": "code",
      "metadata": {
        "id": "iTLwSWxgSqj2",
        "colab_type": "code",
        "colab": {
          "base_uri": "https://localhost:8080/",
          "height": 70
        },
        "outputId": "c3e7bd14-4de3-4a85-cef9-9780f32a9a5d"
      },
      "source": [
        "vcaptions = np.load(\"vcaptions.npy\")\n",
        "vnext_words = np.load(\"vnext_words.npy\")\n",
        "vimages = np.load(\"vimages.npy\")\n",
        "print(vcaptions.shape)\n",
        "print(vnext_words.shape)\n",
        "print(vimages.shape)"
      ],
      "execution_count": null,
      "outputs": [
        {
          "output_type": "stream",
          "text": [
            "(10560, 34)\n",
            "(10560, 7369)\n",
            "(10560, 1000)\n"
          ],
          "name": "stdout"
        }
      ]
    },
    {
      "cell_type": "code",
      "metadata": {
        "id": "0lT0KV6qlFeO",
        "colab_type": "code",
        "colab": {
          "base_uri": "https://localhost:8080/",
          "height": 34
        },
        "outputId": "4040f16e-274d-4b36-beda-ab17129c2fd5"
      },
      "source": [
        "# Adding GloVe Vector\n",
        "embeddings = {}\n",
        "f = open(glove_file, encoding='utf8')\n",
        "\n",
        "for line in f:\n",
        "    words = line.split()\n",
        "    word_embeddings = np.array(words[1:], dtype='float')\n",
        "    embeddings[words[0]] = word_embeddings\n",
        "\n",
        "f.close()\n",
        "len(embeddings)"
      ],
      "execution_count": null,
      "outputs": [
        {
          "output_type": "execute_result",
          "data": {
            "text/plain": [
              "400000"
            ]
          },
          "metadata": {
            "tags": []
          },
          "execution_count": 29
        }
      ]
    },
    {
      "cell_type": "code",
      "metadata": {
        "id": "lwtndcYflG1H",
        "colab_type": "code",
        "colab": {
          "base_uri": "https://localhost:8080/",
          "height": 34
        },
        "outputId": "45edab2b-6783-43db-fe1f-3d78ec1dacc5"
      },
      "source": [
        "embedding_matrix = np.zeros((len(word2index) + 1, 50)) #50\n",
        "\n",
        "for word, index in word2index.items():\n",
        "    embedding_vector = embeddings.get(word)\n",
        "    if embedding_vector is not None:\n",
        "        embedding_matrix[index] = embedding_vector\n",
        "\n",
        "print(embedding_matrix.shape)"
      ],
      "execution_count": null,
      "outputs": [
        {
          "output_type": "stream",
          "text": [
            "(7369, 50)\n"
          ],
          "name": "stdout"
        }
      ]
    },
    {
      "cell_type": "markdown",
      "metadata": {
        "id": "83vd3Xm_4mLs",
        "colab_type": "text"
      },
      "source": [
        "Model LSTM"
      ]
    },
    {
      "cell_type": "code",
      "metadata": {
        "id": "k0CHYWznStII",
        "colab_type": "code",
        "colab": {
          "base_uri": "https://localhost:8080/",
          "height": 574
        },
        "outputId": "f119ff05-b003-403a-c7d5-c3926b24e25d"
      },
      "source": [
        "from keras.layers.merge import add\n",
        "from keras.layers import Input\n",
        "from keras.utils import plot_model\n",
        "from keras.layers import LSTM, Embedding, TimeDistributed, Dense, RepeatVector, Activation, Flatten, Reshape\n",
        "from keras.layers import Dropout\n",
        "from keras.models import Model\n",
        "from keras.layers import concatenate, Concatenate\n",
        "from keras.layers.wrappers import Bidirectional\n",
        "\n",
        "embedding_size = 50\n",
        "max_len = max_length\n",
        "# Image Model\n",
        "\n",
        "image_inp = Input(shape=(1000,))\n",
        "image_model = Dense(embedding_size,input_shape=(1000,),activation='relu')(image_inp)\n",
        "image_model = RepeatVector(max_len)(image_model)\n",
        "\n",
        "# Caption Model\n",
        "caption_inp = Input(shape=(max_len,))\n",
        "caption_model = Embedding(vocab_size, embedding_size, input_length=max_len)(caption_inp)\n",
        "caption_model = LSTM(256,return_sequences=True)(caption_model) #123\n",
        "caption_model = TimeDistributed(Dense(50))(caption_model)\n",
        "\n",
        "# Decoder model\n",
        "merge_model = Concatenate(axis=1)([image_model, caption_model])\n",
        "merge_model = Bidirectional(LSTM(256, return_sequences=False))(merge_model) #128\n",
        "merge_model = Dense(vocab_size)(merge_model)\n",
        "merge_model = Activation('softmax')(merge_model)\n",
        "\n",
        "# Tie it together [image, seq] [word]\n",
        "lang_model = Model(inputs=[image_inp,caption_inp],outputs=merge_model)\n",
        "\n",
        "lang_model.layers[2].set_weights([embedding_matrix])\n",
        "lang_model.layers[2].trainable = False\n",
        "lang_model.compile(loss='categorical_crossentropy', optimizer='adam', metrics=['accuracy'])\n",
        "\n",
        "lang_model.summary()"
      ],
      "execution_count": null,
      "outputs": [
        {
          "output_type": "stream",
          "text": [
            "Model: \"model_1\"\n",
            "__________________________________________________________________________________________________\n",
            "Layer (type)                    Output Shape         Param #     Connected to                     \n",
            "==================================================================================================\n",
            "input_3 (InputLayer)            (None, 34)           0                                            \n",
            "__________________________________________________________________________________________________\n",
            "input_2 (InputLayer)            (None, 1000)         0                                            \n",
            "__________________________________________________________________________________________________\n",
            "embedding_1 (Embedding)         (None, 34, 50)       368450      input_3[0][0]                    \n",
            "__________________________________________________________________________________________________\n",
            "dense_1 (Dense)                 (None, 50)           50050       input_2[0][0]                    \n",
            "__________________________________________________________________________________________________\n",
            "lstm_1 (LSTM)                   (None, 34, 256)      314368      embedding_1[0][0]                \n",
            "__________________________________________________________________________________________________\n",
            "repeat_vector_1 (RepeatVector)  (None, 34, 50)       0           dense_1[0][0]                    \n",
            "__________________________________________________________________________________________________\n",
            "time_distributed_1 (TimeDistrib (None, 34, 50)       12850       lstm_1[0][0]                     \n",
            "__________________________________________________________________________________________________\n",
            "concatenate_1 (Concatenate)     (None, 68, 50)       0           repeat_vector_1[0][0]            \n",
            "                                                                 time_distributed_1[0][0]         \n",
            "__________________________________________________________________________________________________\n",
            "bidirectional_1 (Bidirectional) (None, 512)          628736      concatenate_1[0][0]              \n",
            "__________________________________________________________________________________________________\n",
            "dense_3 (Dense)                 (None, 7369)         3780297     bidirectional_1[0][0]            \n",
            "__________________________________________________________________________________________________\n",
            "activation_1 (Activation)       (None, 7369)         0           dense_3[0][0]                    \n",
            "==================================================================================================\n",
            "Total params: 5,154,751\n",
            "Trainable params: 4,786,301\n",
            "Non-trainable params: 368,450\n",
            "__________________________________________________________________________________________________\n"
          ],
          "name": "stdout"
        }
      ]
    },
    {
      "cell_type": "code",
      "metadata": {
        "id": "dSZZO3Q93WCK",
        "colab_type": "code",
        "colab": {
          "base_uri": "https://localhost:8080/",
          "height": 865
        },
        "outputId": "2c4c0b03-2c57-4317-c436-5ff834252603"
      },
      "source": [
        "from keras.utils import plot_model\n",
        "plot_model(lang_model, to_file='model.png', show_shapes=True)"
      ],
      "execution_count": null,
      "outputs": [
        {
          "output_type": "execute_result",
          "data": {
            "image/png": "[encoded data removed]",
            "text/plain": [
              "<IPython.core.display.Image object>"
            ]
          },
          "metadata": {
            "tags": []
          },
          "execution_count": 32
        }
      ]
    },
    {
      "cell_type": "code",
      "metadata": {
        "id": "_uwU0A7OUXPI",
        "colab_type": "code",
        "colab": {
          "base_uri": "https://localhost:8080/",
          "height": 1000
        },
        "outputId": "65306bfd-598f-4723-bed8-e6376b9098e6"
      },
      "source": [
        "from keras.callbacks import ModelCheckpoint\n",
        "\n",
        "# define checkpoint callback\n",
        "filepath = 'model-ep{epoch:03d}-loss{loss:.3f}-val_loss{val_loss:.3f}.h5'\n",
        "checkpoint = ModelCheckpoint(filepath, monitor='val_loss', verbose=1, save_best_only=True, mode='min')\n",
        "\n",
        "hist = lang_model.fit([images, captions], next_words, batch_size=600, epochs=20, callbacks=[checkpoint], validation_data=([vimages, vcaptions], vnext_words))"
      ],
      "execution_count": null,
      "outputs": [
        {
          "output_type": "stream",
          "text": [
            "Train on 61800 samples, validate on 10560 samples\n",
            "Epoch 1/20\n",
            "61800/61800 [==============================] - 74s 1ms/step - loss: 6.0904 - accuracy: 0.0942 - val_loss: 5.7721 - val_accuracy: 0.0947\n",
            "\n",
            "Epoch 00001: val_loss improved from inf to 5.77212, saving model to model-ep001-loss6.090-val_loss5.772.h5\n",
            "Epoch 2/20\n",
            "61800/61800 [==============================] - 62s 1ms/step - loss: 5.6798 - accuracy: 0.0971 - val_loss: 5.7896 - val_accuracy: 0.0947\n",
            "\n",
            "Epoch 00002: val_loss did not improve from 5.77212\n",
            "Epoch 3/20\n",
            "61800/61800 [==============================] - 62s 1ms/step - loss: 5.6685 - accuracy: 0.0971 - val_loss: 5.7891 - val_accuracy: 0.0947\n",
            "\n",
            "Epoch 00003: val_loss did not improve from 5.77212\n",
            "Epoch 4/20\n",
            "61800/61800 [==============================] - 62s 1ms/step - loss: 5.6257 - accuracy: 0.0965 - val_loss: 5.7192 - val_accuracy: 0.0947\n",
            "\n",
            "Epoch 00004: val_loss improved from 5.77212 to 5.71923, saving model to model-ep004-loss5.626-val_loss5.719.h5\n",
            "Epoch 5/20\n",
            "61800/61800 [==============================] - 63s 1ms/step - loss: 5.5253 - accuracy: 0.0957 - val_loss: 5.6895 - val_accuracy: 0.0947\n",
            "\n",
            "Epoch 00005: val_loss improved from 5.71923 to 5.68954, saving model to model-ep005-loss5.525-val_loss5.690.h5\n",
            "Epoch 6/20\n",
            "61800/61800 [==============================] - 63s 1ms/step - loss: 5.4813 - accuracy: 0.0962 - val_loss: 5.6380 - val_accuracy: 0.1039\n",
            "\n",
            "Epoch 00006: val_loss improved from 5.68954 to 5.63798, saving model to model-ep006-loss5.481-val_loss5.638.h5\n",
            "Epoch 7/20\n",
            "61800/61800 [==============================] - 62s 1ms/step - loss: 5.2646 - accuracy: 0.1238 - val_loss: 5.3977 - val_accuracy: 0.1384\n",
            "\n",
            "Epoch 00007: val_loss improved from 5.63798 to 5.39767, saving model to model-ep007-loss5.265-val_loss5.398.h5\n",
            "Epoch 8/20\n",
            "61800/61800 [==============================] - 63s 1ms/step - loss: 4.9303 - accuracy: 0.1517 - val_loss: 5.2259 - val_accuracy: 0.1460\n",
            "\n",
            "Epoch 00008: val_loss improved from 5.39767 to 5.22591, saving model to model-ep008-loss4.930-val_loss5.226.h5\n",
            "Epoch 9/20\n",
            "61800/61800 [==============================] - 62s 1ms/step - loss: 4.7682 - accuracy: 0.1573 - val_loss: 5.2214 - val_accuracy: 0.1475\n",
            "\n",
            "Epoch 00009: val_loss improved from 5.22591 to 5.22137, saving model to model-ep009-loss4.768-val_loss5.221.h5\n",
            "Epoch 10/20\n",
            "61800/61800 [==============================] - 62s 1ms/step - loss: 4.6385 - accuracy: 0.1637 - val_loss: 5.1617 - val_accuracy: 0.1537\n",
            "\n",
            "Epoch 00010: val_loss improved from 5.22137 to 5.16174, saving model to model-ep010-loss4.639-val_loss5.162.h5\n",
            "Epoch 11/20\n",
            "61800/61800 [==============================] - 63s 1ms/step - loss: 4.5141 - accuracy: 0.1708 - val_loss: 5.1275 - val_accuracy: 0.1570\n",
            "\n",
            "Epoch 00011: val_loss improved from 5.16174 to 5.12755, saving model to model-ep011-loss4.514-val_loss5.128.h5\n",
            "Epoch 12/20\n",
            "61800/61800 [==============================] - 63s 1ms/step - loss: 4.3753 - accuracy: 0.1795 - val_loss: 5.1123 - val_accuracy: 0.1652\n",
            "\n",
            "Epoch 00012: val_loss improved from 5.12755 to 5.11230, saving model to model-ep012-loss4.375-val_loss5.112.h5\n",
            "Epoch 13/20\n",
            "61800/61800 [==============================] - 63s 1ms/step - loss: 4.2358 - accuracy: 0.1925 - val_loss: 5.0645 - val_accuracy: 0.1756\n",
            "\n",
            "Epoch 00013: val_loss improved from 5.11230 to 5.06449, saving model to model-ep013-loss4.236-val_loss5.064.h5\n",
            "Epoch 14/20\n",
            "61800/61800 [==============================] - 63s 1ms/step - loss: 4.0998 - accuracy: 0.2007 - val_loss: 4.9693 - val_accuracy: 0.1878\n",
            "\n",
            "Epoch 00014: val_loss improved from 5.06449 to 4.96928, saving model to model-ep014-loss4.100-val_loss4.969.h5\n",
            "Epoch 15/20\n",
            "61800/61800 [==============================] - 63s 1ms/step - loss: 3.9374 - accuracy: 0.2169 - val_loss: 5.0089 - val_accuracy: 0.1870\n",
            "\n",
            "Epoch 00015: val_loss did not improve from 4.96928\n",
            "Epoch 16/20\n",
            "61800/61800 [==============================] - 63s 1ms/step - loss: 3.8162 - accuracy: 0.2281 - val_loss: 4.9301 - val_accuracy: 0.1983\n",
            "\n",
            "Epoch 00016: val_loss improved from 4.96928 to 4.93013, saving model to model-ep016-loss3.816-val_loss4.930.h5\n",
            "Epoch 17/20\n",
            "61800/61800 [==============================] - 63s 1ms/step - loss: 3.6861 - accuracy: 0.2405 - val_loss: 4.9046 - val_accuracy: 0.2084\n",
            "\n",
            "Epoch 00017: val_loss improved from 4.93013 to 4.90457, saving model to model-ep017-loss3.686-val_loss4.905.h5\n",
            "Epoch 18/20\n",
            "61800/61800 [==============================] - 62s 1ms/step - loss: 3.5772 - accuracy: 0.2490 - val_loss: 4.9170 - val_accuracy: 0.2098\n",
            "\n",
            "Epoch 00018: val_loss did not improve from 4.90457\n",
            "Epoch 19/20\n",
            "61800/61800 [==============================] - 62s 1ms/step - loss: 3.4748 - accuracy: 0.2589 - val_loss: 4.9046 - val_accuracy: 0.2142\n",
            "\n",
            "Epoch 00019: val_loss improved from 4.90457 to 4.90457, saving model to model-ep019-loss3.475-val_loss4.905.h5\n",
            "Epoch 20/20\n",
            "61800/61800 [==============================] - 63s 1ms/step - loss: 3.3822 - accuracy: 0.2680 - val_loss: 4.9118 - val_accuracy: 0.2150\n",
            "\n",
            "Epoch 00020: val_loss did not improve from 4.90457\n"
          ],
          "name": "stdout"
        }
      ]
    },
    {
      "cell_type": "code",
      "metadata": {
        "id": "0KK2yWZRvKwM",
        "colab_type": "code",
        "colab": {
          "base_uri": "https://localhost:8080/",
          "height": 573
        },
        "outputId": "7b091ba5-53a6-46f1-e9c9-32088f37758c"
      },
      "source": [
        "import matplotlib.pyplot as plt\n",
        "\n",
        "# summarize history for accuracy\n",
        "plt.plot(hist.history['accuracy'])\n",
        "plt.plot(hist.history['val_accuracy'])\n",
        "plt.title('model accuracy')\n",
        "plt.ylabel('accuracy')\n",
        "plt.xlabel('epoch')\n",
        "plt.legend(['train', 'test'], loc='upper left')\n",
        "plt.show()\n",
        "\n",
        "# summarize history for loss\n",
        "plt.plot(hist.history['loss'])\n",
        "plt.plot(hist.history['val_loss'])\n",
        "plt.title('model loss')\n",
        "plt.ylabel('loss')\n",
        "plt.xlabel('epoch')\n",
        "plt.legend(['train', 'test'], loc='upper left')\n",
        "plt.show()"
      ],
      "execution_count": null,
      "outputs": [
        {
          "output_type": "display_data",
          "data": {
            "image/png": "[encoded data removed]",
            "text/plain": [
              "<Figure size 432x288 with 1 Axes>"
            ]
          },
          "metadata": {
            "tags": [],
            "needs_background": "light"
          }
        },
        {
          "output_type": "display_data",
          "data": {
            "image/png": "[encoded data removed]",
            "text/plain": [
              "<Figure size 432x288 with 1 Axes>"
            ]
          },
          "metadata": {
            "tags": [],
            "needs_background": "light"
          }
        }
      ]
    },
    {
      "cell_type": "code",
      "metadata": {
        "id": "GHoaNKXf0EDp",
        "colab_type": "code",
        "colab": {}
      },
      "source": [
        "img_model.save('img_model_1000.h5')\n",
        "lang_model.save('lang_model_1000.h5')"
      ],
      "execution_count": null,
      "outputs": []
    },
    {
      "cell_type": "code",
      "metadata": {
        "id": "-fELxWMl0EAu",
        "colab_type": "code",
        "colab": {
          "base_uri": "https://localhost:8080/",
          "height": 1000
        },
        "outputId": "8befd356-7ce3-4ad8-80e3-4ec971530746"
      },
      "source": [
        "!pip install tensorflowjs"
      ],
      "execution_count": null,
      "outputs": [
        {
          "output_type": "stream",
          "text": [
            "Collecting tensorflowjs\n",
            "\u001b[?25l  Downloading https://files.pythonhosted.org/packages/4a/b8/16f378a20a2ee7736233574f65a6cf2154cf8965a8890d27f3d2f33595b2/tensorflowjs-2.0.1-py3-none-any.whl (60kB)\n",
            "\r\u001b[K     |█████▌                          | 10kB 21.1MB/s eta 0:00:01\r\u001b[K     |███████████                     | 20kB 4.9MB/s eta 0:00:01\r\u001b[K     |████████████████▍               | 30kB 6.3MB/s eta 0:00:01\r\u001b[K     |█████████████████████▉          | 40kB 6.3MB/s eta 0:00:01\r\u001b[K     |███████████████████████████▎    | 51kB 5.3MB/s eta 0:00:01\r\u001b[K     |████████████████████████████████| 61kB 3.4MB/s \n",
            "\u001b[?25hRequirement already satisfied: h5py>=2.8.0 in /usr/local/lib/python3.6/dist-packages (from tensorflowjs) (2.10.0)\n",
            "Collecting PyInquirer==1.0.3\n",
            "  Downloading https://files.pythonhosted.org/packages/fb/4c/434b7c454010a284b49d6f1d446fe8dc5960415613d8c0225b9e2efb6724/PyInquirer-1.0.3.tar.gz\n",
            "Collecting tensorflow-cpu>=2.1.0<3\n",
            "\u001b[?25l  Downloading https://files.pythonhosted.org/packages/e7/4f/7bf91c87907873177ad99a31014fb77271a693a3a7cb75e522ac6b556416/tensorflow_cpu-2.2.0-cp36-cp36m-manylinux2010_x86_64.whl (144.4MB)\n",
            "\u001b[K     |████████████████████████████████| 144.4MB 118kB/s \n",
            "\u001b[?25hRequirement already satisfied: numpy>=1.16.4 in /usr/local/lib/python3.6/dist-packages (from tensorflowjs) (1.18.5)\n",
            "Collecting tensorflow-hub==0.7.0\n",
            "\u001b[?25l  Downloading https://files.pythonhosted.org/packages/00/0e/a91780d07592b1abf9c91344ce459472cc19db3b67fdf3a61dca6ebb2f5c/tensorflow_hub-0.7.0-py2.py3-none-any.whl (89kB)\n",
            "\u001b[K     |████████████████████████████████| 92kB 8.5MB/s \n",
            "\u001b[?25hRequirement already satisfied: six>=1.12.0 in /usr/local/lib/python3.6/dist-packages (from tensorflowjs) (1.12.0)\n",
            "Collecting prompt_toolkit==1.0.14\n",
            "\u001b[?25l  Downloading https://files.pythonhosted.org/packages/ee/3d/b25d35a9f0d381dd1c02d8e04b37c353caaaff4bc32150328eeebe4931f5/prompt_toolkit-1.0.14-py3-none-any.whl (248kB)\n",
            "\u001b[K     |████████████████████████████████| 256kB 36.4MB/s \n",
            "\u001b[?25hCollecting Pygments>=2.2.0\n",
            "\u001b[?25l  Downloading https://files.pythonhosted.org/packages/2d/68/106af3ae51daf807e9cdcba6a90e518954eb8b70341cee52995540a53ead/Pygments-2.6.1-py3-none-any.whl (914kB)\n",
            "\u001b[K     |████████████████████████████████| 921kB 35.4MB/s \n",
            "\u001b[?25hRequirement already satisfied: regex>=2016.11.21 in /usr/local/lib/python3.6/dist-packages (from PyInquirer==1.0.3->tensorflowjs) (2019.12.20)\n",
            "Requirement already satisfied: wheel>=0.26; python_version >= \"3\" in /usr/local/lib/python3.6/dist-packages (from tensorflow-cpu>=2.1.0<3->tensorflowjs) (0.34.2)\n",
            "Requirement already satisfied: opt-einsum>=2.3.2 in /usr/local/lib/python3.6/dist-packages (from tensorflow-cpu>=2.1.0<3->tensorflowjs) (3.2.1)\n",
            "Requirement already satisfied: wrapt>=1.11.1 in /usr/local/lib/python3.6/dist-packages (from tensorflow-cpu>=2.1.0<3->tensorflowjs) (1.12.1)\n",
            "Requirement already satisfied: gast==0.3.3 in /usr/local/lib/python3.6/dist-packages (from tensorflow-cpu>=2.1.0<3->tensorflowjs) (0.3.3)\n",
            "Requirement already satisfied: tensorboard<2.3.0,>=2.2.0 in /usr/local/lib/python3.6/dist-packages (from tensorflow-cpu>=2.1.0<3->tensorflowjs) (2.2.2)\n",
            "Requirement already satisfied: google-pasta>=0.1.8 in /usr/local/lib/python3.6/dist-packages (from tensorflow-cpu>=2.1.0<3->tensorflowjs) (0.2.0)\n",
            "Requirement already satisfied: absl-py>=0.7.0 in /usr/local/lib/python3.6/dist-packages (from tensorflow-cpu>=2.1.0<3->tensorflowjs) (0.9.0)\n",
            "Requirement already satisfied: termcolor>=1.1.0 in /usr/local/lib/python3.6/dist-packages (from tensorflow-cpu>=2.1.0<3->tensorflowjs) (1.1.0)\n",
            "Requirement already satisfied: protobuf>=3.8.0 in /usr/local/lib/python3.6/dist-packages (from tensorflow-cpu>=2.1.0<3->tensorflowjs) (3.10.0)\n",
            "Requirement already satisfied: tensorflow-estimator<2.3.0,>=2.2.0 in /usr/local/lib/python3.6/dist-packages (from tensorflow-cpu>=2.1.0<3->tensorflowjs) (2.2.0)\n",
            "Requirement already satisfied: grpcio>=1.8.6 in /usr/local/lib/python3.6/dist-packages (from tensorflow-cpu>=2.1.0<3->tensorflowjs) (1.29.0)\n",
            "Requirement already satisfied: scipy==1.4.1; python_version >= \"3\" in /usr/local/lib/python3.6/dist-packages (from tensorflow-cpu>=2.1.0<3->tensorflowjs) (1.4.1)\n",
            "Requirement already satisfied: astunparse==1.6.3 in /usr/local/lib/python3.6/dist-packages (from tensorflow-cpu>=2.1.0<3->tensorflowjs) (1.6.3)\n",
            "Requirement already satisfied: keras-preprocessing>=1.1.0 in /usr/local/lib/python3.6/dist-packages (from tensorflow-cpu>=2.1.0<3->tensorflowjs) (1.1.2)\n",
            "Requirement already satisfied: wcwidth in /usr/local/lib/python3.6/dist-packages (from prompt_toolkit==1.0.14->PyInquirer==1.0.3->tensorflowjs) (0.2.4)\n",
            "Requirement already satisfied: google-auth<2,>=1.6.3 in /usr/local/lib/python3.6/dist-packages (from tensorboard<2.3.0,>=2.2.0->tensorflow-cpu>=2.1.0<3->tensorflowjs) (1.17.2)\n",
            "Requirement already satisfied: werkzeug>=0.11.15 in /usr/local/lib/python3.6/dist-packages (from tensorboard<2.3.0,>=2.2.0->tensorflow-cpu>=2.1.0<3->tensorflowjs) (1.0.1)\n",
            "Requirement already satisfied: tensorboard-plugin-wit>=1.6.0 in /usr/local/lib/python3.6/dist-packages (from tensorboard<2.3.0,>=2.2.0->tensorflow-cpu>=2.1.0<3->tensorflowjs) (1.6.0.post3)\n",
            "Requirement already satisfied: google-auth-oauthlib<0.5,>=0.4.1 in /usr/local/lib/python3.6/dist-packages (from tensorboard<2.3.0,>=2.2.0->tensorflow-cpu>=2.1.0<3->tensorflowjs) (0.4.1)\n",
            "Requirement already satisfied: setuptools>=41.0.0 in /usr/local/lib/python3.6/dist-packages (from tensorboard<2.3.0,>=2.2.0->tensorflow-cpu>=2.1.0<3->tensorflowjs) (47.3.1)\n",
            "Requirement already satisfied: markdown>=2.6.8 in /usr/local/lib/python3.6/dist-packages (from tensorboard<2.3.0,>=2.2.0->tensorflow-cpu>=2.1.0<3->tensorflowjs) (3.2.2)\n",
            "Requirement already satisfied: requests<3,>=2.21.0 in /usr/local/lib/python3.6/dist-packages (from tensorboard<2.3.0,>=2.2.0->tensorflow-cpu>=2.1.0<3->tensorflowjs) (2.23.0)\n",
            "Requirement already satisfied: cachetools<5.0,>=2.0.0 in /usr/local/lib/python3.6/dist-packages (from google-auth<2,>=1.6.3->tensorboard<2.3.0,>=2.2.0->tensorflow-cpu>=2.1.0<3->tensorflowjs) (4.1.0)\n",
            "Requirement already satisfied: rsa<5,>=3.1.4; python_version >= \"3\" in /usr/local/lib/python3.6/dist-packages (from google-auth<2,>=1.6.3->tensorboard<2.3.0,>=2.2.0->tensorflow-cpu>=2.1.0<3->tensorflowjs) (4.6)\n",
            "Requirement already satisfied: pyasn1-modules>=0.2.1 in /usr/local/lib/python3.6/dist-packages (from google-auth<2,>=1.6.3->tensorboard<2.3.0,>=2.2.0->tensorflow-cpu>=2.1.0<3->tensorflowjs) (0.2.8)\n",
            "Requirement already satisfied: requests-oauthlib>=0.7.0 in /usr/local/lib/python3.6/dist-packages (from google-auth-oauthlib<0.5,>=0.4.1->tensorboard<2.3.0,>=2.2.0->tensorflow-cpu>=2.1.0<3->tensorflowjs) (1.3.0)\n",
            "Requirement already satisfied: importlib-metadata; python_version < \"3.8\" in /usr/local/lib/python3.6/dist-packages (from markdown>=2.6.8->tensorboard<2.3.0,>=2.2.0->tensorflow-cpu>=2.1.0<3->tensorflowjs) (1.6.1)\n",
            "Requirement already satisfied: idna<3,>=2.5 in /usr/local/lib/python3.6/dist-packages (from requests<3,>=2.21.0->tensorboard<2.3.0,>=2.2.0->tensorflow-cpu>=2.1.0<3->tensorflowjs) (2.9)\n",
            "Requirement already satisfied: certifi>=2017.4.17 in /usr/local/lib/python3.6/dist-packages (from requests<3,>=2.21.0->tensorboard<2.3.0,>=2.2.0->tensorflow-cpu>=2.1.0<3->tensorflowjs) (2020.4.5.2)\n",
            "Requirement already satisfied: urllib3!=1.25.0,!=1.25.1,<1.26,>=1.21.1 in /usr/local/lib/python3.6/dist-packages (from requests<3,>=2.21.0->tensorboard<2.3.0,>=2.2.0->tensorflow-cpu>=2.1.0<3->tensorflowjs) (1.24.3)\n",
            "Requirement already satisfied: chardet<4,>=3.0.2 in /usr/local/lib/python3.6/dist-packages (from requests<3,>=2.21.0->tensorboard<2.3.0,>=2.2.0->tensorflow-cpu>=2.1.0<3->tensorflowjs) (3.0.4)\n",
            "Requirement already satisfied: pyasn1>=0.1.3 in /usr/local/lib/python3.6/dist-packages (from rsa<5,>=3.1.4; python_version >= \"3\"->google-auth<2,>=1.6.3->tensorboard<2.3.0,>=2.2.0->tensorflow-cpu>=2.1.0<3->tensorflowjs) (0.4.8)\n",
            "Requirement already satisfied: oauthlib>=3.0.0 in /usr/local/lib/python3.6/dist-packages (from requests-oauthlib>=0.7.0->google-auth-oauthlib<0.5,>=0.4.1->tensorboard<2.3.0,>=2.2.0->tensorflow-cpu>=2.1.0<3->tensorflowjs) (3.1.0)\n",
            "Requirement already satisfied: zipp>=0.5 in /usr/local/lib/python3.6/dist-packages (from importlib-metadata; python_version < \"3.8\"->markdown>=2.6.8->tensorboard<2.3.0,>=2.2.0->tensorflow-cpu>=2.1.0<3->tensorflowjs) (3.1.0)\n",
            "Building wheels for collected packages: PyInquirer\n",
            "  Building wheel for PyInquirer (setup.py) ... \u001b[?25l\u001b[?25hdone\n",
            "  Created wheel for PyInquirer: filename=PyInquirer-1.0.3-cp36-none-any.whl size=32851 sha256=b6b2d223df844a915aa17338970f737fe545fd85d68a03bd6ccd20ffb466b962\n",
            "  Stored in directory: /root/.cache/pip/wheels/52/6c/b1/3e4b0e8daf42a92883c7641c0ea8ffb62e0490ebed2faa55ad\n",
            "Successfully built PyInquirer\n",
            "\u001b[31mERROR: datascience 0.10.6 has requirement folium==0.2.1, but you'll have folium 0.8.3 which is incompatible.\u001b[0m\n",
            "Installing collected packages: prompt-toolkit, Pygments, PyInquirer, tensorflow-cpu, tensorflow-hub, tensorflowjs\n",
            "  Found existing installation: prompt-toolkit 1.0.18\n",
            "    Uninstalling prompt-toolkit-1.0.18:\n",
            "      Successfully uninstalled prompt-toolkit-1.0.18\n",
            "  Found existing installation: Pygments 2.1.3\n",
            "    Uninstalling Pygments-2.1.3:\n",
            "      Successfully uninstalled Pygments-2.1.3\n",
            "  Found existing installation: tensorflow-hub 0.8.0\n",
            "    Uninstalling tensorflow-hub-0.8.0:\n",
            "      Successfully uninstalled tensorflow-hub-0.8.0\n",
            "Successfully installed PyInquirer-1.0.3 Pygments-2.6.1 prompt-toolkit-1.0.14 tensorflow-cpu-2.2.0 tensorflow-hub-0.7.0 tensorflowjs-2.0.1\n"
          ],
          "name": "stdout"
        },
        {
          "output_type": "display_data",
          "data": {
            "application/vnd.colab-display-data+json": {
              "pip_warning": {
                "packages": [
                  "prompt_toolkit",
                  "pygments",
                  "tensorflow"
                ]
              }
            }
          },
          "metadata": {
            "tags": []
          }
        }
      ]
    },
    {
      "cell_type": "code",
      "metadata": {
        "id": "nYcIYWKS0D8o",
        "colab_type": "code",
        "colab": {
          "base_uri": "https://localhost:8080/",
          "height": 52
        },
        "outputId": "f16c3759-56d1-4d0e-dd24-f12db1b8b974"
      },
      "source": [
        "!mkdir model1000\n",
        "import tensorflowjs as tfjs\n",
        "tfjs.converters.save_keras_model(img_model, 'model1000/img_model')\n",
        "tfjs.converters.save_keras_model(lang_model, 'model1000/lang_model')"
      ],
      "execution_count": null,
      "outputs": [
        {
          "output_type": "stream",
          "text": [
            "/usr/local/lib/python3.6/dist-packages/tensorflowjs/converters/keras_h5_conversion.py:122: H5pyDeprecationWarning: The default file mode will change to 'r' (read-only) in h5py 3.0. To suppress this warning, pass the mode you need to h5py.File(), or set the global default h5.get_config().default_file_mode, or set the environment variable H5PY_DEFAULT_READONLY=1. Available modes are: 'r', 'r+', 'w', 'w-'/'x', 'a'. See the docs for details.\n",
            "  return h5py.File(h5file)\n"
          ],
          "name": "stderr"
        }
      ]
    },
    {
      "cell_type": "code",
      "metadata": {
        "id": "XOiIo16e0Dse",
        "colab_type": "code",
        "colab": {}
      },
      "source": [
        "!cp -r /content/model1000 '/content/gdrive/My Drive'\n",
        "!cp -r /content/img_model_1000.h5 '/content/gdrive/My Drive'\n",
        "!cp -r /content/lang_model_1000.h5 '/content/gdrive/My Drive'"
      ],
      "execution_count": null,
      "outputs": []
    },
    {
      "cell_type": "markdown",
      "metadata": {
        "id": "nIZrRw8D--S-",
        "colab_type": "text"
      },
      "source": [
        "Predict"
      ]
    },
    {
      "cell_type": "code",
      "metadata": {
        "id": "X6Pux8td1QaS",
        "colab_type": "code",
        "colab": {}
      },
      "source": [
        "from nltk.translate.bleu_score import sentence_bleu\n",
        "from nltk.translate.bleu_score import SmoothingFunction\n",
        "import random\n",
        "from tensorflow.keras.preprocessing.sequence import pad_sequences\n",
        "from keras.preprocessing import image\n",
        "\n",
        "def preprocess_input(x):\n",
        "  x /= 127.5\n",
        "  x -= 1\n",
        "  return x\n",
        "  \n",
        "def preprocess(image_path):\n",
        "  img = load_img(image_path, target_size=(224, 224))\n",
        "  x = img_to_array(img)\n",
        "  x = np.expand_dims(x, axis=0)\n",
        "  x = preprocess_input(x)\n",
        "  return x\n",
        "\n",
        "def encode(image):\n",
        "  image = preprocess(image)\n",
        "  temp_enc = img_model.predict(image)\n",
        "  temp_enc = np.reshape(temp_enc, 1000)\n",
        "  return temp_enc\n",
        "\n",
        "def predict_captions(image):\n",
        "    start_word = [\"<start>\"]\n",
        "    while True:\n",
        "        par_caps = [word2index[i] for i in start_word]\n",
        "        par_caps = pad_sequences([par_caps], maxlen=max_len, padding='post')\n",
        "        #e = encoding_test[image[len(images):]]\n",
        "        e = encode(image)\n",
        "        preds = lang_model.predict([np.array([e]), np.array(par_caps)])\n",
        "        word_pred = index2word[np.argmax(preds[0])]\n",
        "        start_word.append(word_pred)\n",
        "        \n",
        "        if word_pred == \"<end>\" or len(start_word) > max_len:\n",
        "            break\n",
        "            \n",
        "    return ' '.join(start_word[1:-1])"
      ],
      "execution_count": null,
      "outputs": []
    },
    {
      "cell_type": "code",
      "metadata": {
        "id": "PwYeSfvg1nbR",
        "colab_type": "code",
        "colab": {
          "base_uri": "https://localhost:8080/",
          "height": 250
        },
        "outputId": "a93ba6e8-fe49-4e9d-9fce-e10efb6867b9"
      },
      "source": [
        "#Mean bleu\n",
        "max_length = 34\n",
        "bleus = []\n",
        "\n",
        "for t in unique_val:\n",
        "  test_img_path = os.path.join(image_folder, t)\n",
        "  real_cap = next(y for x,y in val_set if x==t)\n",
        "  #image = preprocess_image(test_img_path)\n",
        "  #feature = img_model.predict(image)\n",
        "  #feature = np.reshape(feature, feature.shape[1])\n",
        "\n",
        "  Argmax_Search = predict_captions(test_img_path)\n",
        "  pic = Image(filename=test_img_path)\n",
        "  #display(pic)\n",
        "\n",
        "  s_real = real_cap.split()\n",
        "  s_real = s_real[1: -1]\n",
        "  s_pred = Argmax_Search.split()\n",
        "  bleu = sentence_bleu([s_real], s_pred)\n",
        "\n",
        "  #print('Real Captions: {}'.format(''.join(real_cap)))\n",
        "  #print('Predicted Captions: {}'.format(Argmax_Search))\n",
        "  #print('BLEU: {}'.format(bleu))\n",
        "  #print('\\n')\n",
        "  bleus.append(bleu)\n",
        "\n",
        "print(\"Mean BLEU {}\".format(np.mean(bleus)))"
      ],
      "execution_count": null,
      "outputs": [
        {
          "output_type": "stream",
          "text": [
            "/usr/local/lib/python3.6/dist-packages/nltk/translate/bleu_score.py:490: UserWarning: \n",
            "Corpus/Sentence contains 0 counts of 2-gram overlaps.\n",
            "BLEU scores might be undesirable; use SmoothingFunction().\n",
            "  warnings.warn(_msg)\n",
            "/usr/local/lib/python3.6/dist-packages/nltk/translate/bleu_score.py:490: UserWarning: \n",
            "Corpus/Sentence contains 0 counts of 3-gram overlaps.\n",
            "BLEU scores might be undesirable; use SmoothingFunction().\n",
            "  warnings.warn(_msg)\n",
            "/usr/local/lib/python3.6/dist-packages/nltk/translate/bleu_score.py:490: UserWarning: \n",
            "Corpus/Sentence contains 0 counts of 4-gram overlaps.\n",
            "BLEU scores might be undesirable; use SmoothingFunction().\n",
            "  warnings.warn(_msg)\n"
          ],
          "name": "stderr"
        },
        {
          "output_type": "stream",
          "text": [
            "Mean BLEU 0.34934215717044664\n"
          ],
          "name": "stdout"
        }
      ]
    }
  ]
}